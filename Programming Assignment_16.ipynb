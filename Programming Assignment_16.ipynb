{
 "cells": [
  {
   "cell_type": "markdown",
   "id": "009610d6",
   "metadata": {},
   "source": [
    "#### Write a function that stutters a word as if someone is struggling to read it. The first two letters are repeated twice with an ellipsis ... and space after each, and then the word is pronounced with a question mark ?."
   ]
  },
  {
   "cell_type": "code",
   "execution_count": 5,
   "id": "ef58c9fd",
   "metadata": {},
   "outputs": [],
   "source": [
    "def stutter(str1):\n",
    "    str2=str1[:2]+\"... \"+str1[:2]+\"... \"+str1[:]+\"?\"\n",
    "    return str2"
   ]
  },
  {
   "cell_type": "code",
   "execution_count": 10,
   "id": "e34b92e5",
   "metadata": {},
   "outputs": [
    {
     "data": {
      "text/plain": [
       "'in... in... incredible?'"
      ]
     },
     "execution_count": 10,
     "metadata": {},
     "output_type": "execute_result"
    }
   ],
   "source": [
    "stutter(\"incredible\") "
   ]
  },
  {
   "cell_type": "code",
   "execution_count": 7,
   "id": "5c71ecb9",
   "metadata": {},
   "outputs": [
    {
     "data": {
      "text/plain": [
       "'en... en... enthusiastic?'"
      ]
     },
     "execution_count": 7,
     "metadata": {},
     "output_type": "execute_result"
    }
   ],
   "source": [
    "stutter(\"enthusiastic\") "
   ]
  },
  {
   "cell_type": "code",
   "execution_count": 8,
   "id": "17eee771",
   "metadata": {},
   "outputs": [
    {
     "data": {
      "text/plain": [
       "'ou... ou... outstanding?'"
      ]
     },
     "execution_count": 8,
     "metadata": {},
     "output_type": "execute_result"
    }
   ],
   "source": [
    "stutter(\"outstanding\") "
   ]
  },
  {
   "cell_type": "markdown",
   "id": "57afc576",
   "metadata": {},
   "source": [
    "#### Create a function that takes an angle in radians and returns the corresponding angle in degrees rounded to one decimal place."
   ]
  },
  {
   "cell_type": "code",
   "execution_count": 16,
   "id": "62d055fe",
   "metadata": {},
   "outputs": [],
   "source": [
    "import math\n",
    "def radians_to_degrees(num):\n",
    "    \"\"\"This returns the corresponding angle in degrees rounded to one decimal place. \"\"\"\n",
    "    degree=round(num*180/math.pi,1)\n",
    "    return degree"
   ]
  },
  {
   "cell_type": "code",
   "execution_count": 17,
   "id": "e60aae8f",
   "metadata": {},
   "outputs": [
    {
     "data": {
      "text/plain": [
       "57.3"
      ]
     },
     "execution_count": 17,
     "metadata": {},
     "output_type": "execute_result"
    }
   ],
   "source": [
    "radians_to_degrees(1) "
   ]
  },
  {
   "cell_type": "code",
   "execution_count": 18,
   "id": "ba5e89e9",
   "metadata": {},
   "outputs": [
    {
     "data": {
      "text/plain": [
       "1145.9"
      ]
     },
     "execution_count": 18,
     "metadata": {},
     "output_type": "execute_result"
    }
   ],
   "source": [
    "radians_to_degrees(20) "
   ]
  },
  {
   "cell_type": "code",
   "execution_count": 19,
   "id": "134f17c0",
   "metadata": {},
   "outputs": [
    {
     "data": {
      "text/plain": [
       "2864.8"
      ]
     },
     "execution_count": 19,
     "metadata": {},
     "output_type": "execute_result"
    }
   ],
   "source": [
    "radians_to_degrees(50) "
   ]
  },
  {
   "cell_type": "markdown",
   "id": "90e5d581",
   "metadata": {},
   "source": [
    "#### In this challenge, establish if a given integer num is a Curzon number. If 1 plus 2 elevated to num is exactly divisible by 1 plus 2 multiplied by num, then num is a Curzon number.\n",
    "Given a non-negative integer num, implement a function that returns True if num is a Curzon number, or False otherwise.\n"
   ]
  },
  {
   "cell_type": "code",
   "execution_count": 20,
   "id": "ee264710",
   "metadata": {},
   "outputs": [],
   "source": [
    "def is_curzon(num):\n",
    "    \"\"\"This checks the given number is a Curzon number or not. \"\"\"\n",
    "    if (1+2**num)% (1+2*num)==0:\n",
    "        return True\n",
    "    else:\n",
    "        return False"
   ]
  },
  {
   "cell_type": "code",
   "execution_count": 21,
   "id": "3e2aa44f",
   "metadata": {},
   "outputs": [
    {
     "data": {
      "text/plain": [
       "True"
      ]
     },
     "execution_count": 21,
     "metadata": {},
     "output_type": "execute_result"
    }
   ],
   "source": [
    "is_curzon(5) "
   ]
  },
  {
   "cell_type": "code",
   "execution_count": 22,
   "id": "aa2c520b",
   "metadata": {},
   "outputs": [
    {
     "data": {
      "text/plain": [
       "False"
      ]
     },
     "execution_count": 22,
     "metadata": {},
     "output_type": "execute_result"
    }
   ],
   "source": [
    "is_curzon(10) "
   ]
  },
  {
   "cell_type": "code",
   "execution_count": 23,
   "id": "1617e69f",
   "metadata": {},
   "outputs": [
    {
     "data": {
      "text/plain": [
       "True"
      ]
     },
     "execution_count": 23,
     "metadata": {},
     "output_type": "execute_result"
    }
   ],
   "source": [
    "is_curzon(14) "
   ]
  },
  {
   "cell_type": "markdown",
   "id": "861d8485",
   "metadata": {},
   "source": [
    "#### Given the side length x find the area of a hexagon."
   ]
  },
  {
   "cell_type": "code",
   "execution_count": 24,
   "id": "0c7ba6f9",
   "metadata": {},
   "outputs": [],
   "source": [
    "import math\n",
    "def area_of_hexagon(num):\n",
    "    \"\"\"This finds the area of a hexagon. \"\"\"\n",
    "    area=round(3*math.sqrt(3)*num**2/2,1)\n",
    "    return area"
   ]
  },
  {
   "cell_type": "code",
   "execution_count": 25,
   "id": "0ed63ee6",
   "metadata": {},
   "outputs": [
    {
     "data": {
      "text/plain": [
       "2.6"
      ]
     },
     "execution_count": 25,
     "metadata": {},
     "output_type": "execute_result"
    }
   ],
   "source": [
    "area_of_hexagon(1)"
   ]
  },
  {
   "cell_type": "code",
   "execution_count": 26,
   "id": "66259ef2",
   "metadata": {},
   "outputs": [
    {
     "data": {
      "text/plain": [
       "10.4"
      ]
     },
     "execution_count": 26,
     "metadata": {},
     "output_type": "execute_result"
    }
   ],
   "source": [
    "area_of_hexagon(2) "
   ]
  },
  {
   "cell_type": "code",
   "execution_count": 27,
   "id": "4e1271ec",
   "metadata": {},
   "outputs": [
    {
     "data": {
      "text/plain": [
       "23.4"
      ]
     },
     "execution_count": 27,
     "metadata": {},
     "output_type": "execute_result"
    }
   ],
   "source": [
    "area_of_hexagon(3) "
   ]
  },
  {
   "cell_type": "markdown",
   "id": "eac8d26c",
   "metadata": {},
   "source": [
    "#### Create a function that returns a base-2 (binary) representation of a base-10 (decimal) string number. To convert is simple: ((2) means base-2 and (10) means base-10) 010101001(2) = 1 + 8 + 32 + 128.\n",
    "Going from right to left, the value of the most right bit is 1, now from that every bit to the left will be x2 the value, value of an 8 bit binary numbers are (256, 128, 64, 32, 16, 8, 4, 2, 1).\n"
   ]
  },
  {
   "cell_type": "code",
   "execution_count": 39,
   "id": "a0810529",
   "metadata": {},
   "outputs": [],
   "source": [
    "def binary(num):\n",
    "    \"\"\"This returns a base-2 (binary) representation of a base-10 (decimal) string number. \"\"\"\n",
    "    bin2=''\n",
    "    while num>=2:\n",
    "        bin2+=str((num%2))\n",
    "        num=int(num/2)\n",
    "    if num<2:\n",
    "        bin2+=str(num%2)\n",
    "    return bin2[::-1]"
   ]
  },
  {
   "cell_type": "code",
   "execution_count": 40,
   "id": "039a7d5f",
   "metadata": {},
   "outputs": [
    {
     "data": {
      "text/plain": [
       "'1'"
      ]
     },
     "execution_count": 40,
     "metadata": {},
     "output_type": "execute_result"
    }
   ],
   "source": [
    "binary(1) "
   ]
  },
  {
   "cell_type": "code",
   "execution_count": 41,
   "id": "a9541bcb",
   "metadata": {},
   "outputs": [
    {
     "data": {
      "text/plain": [
       "'101'"
      ]
     },
     "execution_count": 41,
     "metadata": {},
     "output_type": "execute_result"
    }
   ],
   "source": [
    "binary(5)"
   ]
  },
  {
   "cell_type": "code",
   "execution_count": 42,
   "id": "acf024b2",
   "metadata": {},
   "outputs": [
    {
     "data": {
      "text/plain": [
       "'1010'"
      ]
     },
     "execution_count": 42,
     "metadata": {},
     "output_type": "execute_result"
    }
   ],
   "source": [
    "binary(10) "
   ]
  },
  {
   "cell_type": "markdown",
   "id": "905cfb10",
   "metadata": {},
   "source": [
    "### The END"
   ]
  }
 ],
 "metadata": {
  "kernelspec": {
   "display_name": "Python 3 (ipykernel)",
   "language": "python",
   "name": "python3"
  },
  "language_info": {
   "codemirror_mode": {
    "name": "ipython",
    "version": 3
   },
   "file_extension": ".py",
   "mimetype": "text/x-python",
   "name": "python",
   "nbconvert_exporter": "python",
   "pygments_lexer": "ipython3",
   "version": "3.9.12"
  }
 },
 "nbformat": 4,
 "nbformat_minor": 5
}
