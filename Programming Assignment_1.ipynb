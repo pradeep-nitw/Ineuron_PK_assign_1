{
 "cells": [
  {
   "cell_type": "markdown",
   "id": "c0bdeb50",
   "metadata": {},
   "source": [
    "#### Write a Python program to print \"Hello Python\"?"
   ]
  },
  {
   "cell_type": "code",
   "execution_count": 1,
   "id": "ec831fd3",
   "metadata": {},
   "outputs": [
    {
     "name": "stdout",
     "output_type": "stream",
     "text": [
      "Hello Python\n"
     ]
    }
   ],
   "source": [
    "print(\"Hello Python\")"
   ]
  },
  {
   "cell_type": "markdown",
   "id": "83d9b316",
   "metadata": {},
   "source": [
    "#### Write a Python program to do arithmetical operations addition and division.?"
   ]
  },
  {
   "cell_type": "code",
   "execution_count": 2,
   "id": "4620fa34",
   "metadata": {},
   "outputs": [
    {
     "name": "stdout",
     "output_type": "stream",
     "text": [
      "Enter your first number 15\n",
      "Enter your second number 20\n",
      "Total sum is 35.0\n"
     ]
    }
   ],
   "source": [
    "#To perform addition operaion for two numbers\n",
    "var1 = input(\"Enter your first number \")\n",
    "var2 = input(\"Enter your second number \")\n",
    "sum_= float(var1)+float(var2)\n",
    "print (\"Total sum is \"+ str(sum_))"
   ]
  },
  {
   "cell_type": "code",
   "execution_count": 3,
   "id": "8f7c3217",
   "metadata": {},
   "outputs": [
    {
     "name": "stdout",
     "output_type": "stream",
     "text": [
      "Enter your first number 15\n",
      "Enter your second number 20\n",
      "Answer is 0.75\n"
     ]
    }
   ],
   "source": [
    "#To perform division operaion for two numbers\n",
    "var1 = input(\"Enter your first number \")\n",
    "var2 = input(\"Enter your second number \")\n",
    "div_= float(var1)/float(var2)\n",
    "\n",
    "print (\"Answer is \"+ str(div_))"
   ]
  },
  {
   "cell_type": "markdown",
   "id": "5c441c45",
   "metadata": {},
   "source": [
    "#### Write a Python program to find the area of a triangle?"
   ]
  },
  {
   "cell_type": "code",
   "execution_count": 4,
   "id": "072f2d1d",
   "metadata": {},
   "outputs": [
    {
     "name": "stdout",
     "output_type": "stream",
     "text": [
      "Enter the height of Triangle 15\n",
      "Enter the breadth of Triangle 20\n",
      "Area of Triangle is 150.0\n"
     ]
    }
   ],
   "source": [
    "var1 = input(\"Enter the height of Triangle \")\n",
    "var2 = input(\"Enter the breadth of Triangle \")\n",
    "area= 0.5*float(var1)*float(var2)\n",
    "print (\"Area of Triangle is \" + str(area))"
   ]
  },
  {
   "cell_type": "markdown",
   "id": "26307e27",
   "metadata": {},
   "source": [
    "#### Write a Python program to swap two variables?"
   ]
  },
  {
   "cell_type": "code",
   "execution_count": 12,
   "id": "d8b75da6",
   "metadata": {},
   "outputs": [
    {
     "name": "stdout",
     "output_type": "stream",
     "text": [
      "Enter your first number 15\n",
      "Enter your second number 20\n",
      "20.0    15.0\n"
     ]
    }
   ],
   "source": [
    "var1 = float(input(\"Enter your first number \"))\n",
    "var2 = float(input(\"Enter your second number \"))\n",
    "sum_ = var1 + var2 \n",
    "var1 = var2\n",
    "var2 = sum_ - var1\n",
    "print(var1, \"  \", var2)"
   ]
  },
  {
   "cell_type": "markdown",
   "id": "251668a5",
   "metadata": {},
   "source": [
    "#### Write a Python program to generate a random number?"
   ]
  },
  {
   "cell_type": "code",
   "execution_count": 13,
   "id": "14031983",
   "metadata": {},
   "outputs": [],
   "source": [
    "import random"
   ]
  },
  {
   "cell_type": "code",
   "execution_count": 14,
   "id": "1a725f3c",
   "metadata": {},
   "outputs": [
    {
     "name": "stdout",
     "output_type": "stream",
     "text": [
      "86\n"
     ]
    }
   ],
   "source": [
    "print (random.randint(0,100)) #will generate integers between 0 & 100"
   ]
  },
  {
   "cell_type": "markdown",
   "id": "64742939",
   "metadata": {},
   "source": [
    "##### The End"
   ]
  },
  {
   "cell_type": "code",
   "execution_count": null,
   "id": "bda59c9a",
   "metadata": {},
   "outputs": [],
   "source": []
  }
 ],
 "metadata": {
  "kernelspec": {
   "display_name": "Python 3 (ipykernel)",
   "language": "python",
   "name": "python3"
  },
  "language_info": {
   "codemirror_mode": {
    "name": "ipython",
    "version": 3
   },
   "file_extension": ".py",
   "mimetype": "text/x-python",
   "name": "python",
   "nbconvert_exporter": "python",
   "pygments_lexer": "ipython3",
   "version": "3.9.12"
  }
 },
 "nbformat": 4,
 "nbformat_minor": 5
}
