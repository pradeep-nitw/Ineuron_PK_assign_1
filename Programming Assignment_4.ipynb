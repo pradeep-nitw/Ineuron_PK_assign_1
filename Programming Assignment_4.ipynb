{
 "cells": [
  {
   "cell_type": "markdown",
   "id": "b9781920",
   "metadata": {},
   "source": [
    "#### Write a Python Program to Find the Factorial of a Number?"
   ]
  },
  {
   "cell_type": "code",
   "execution_count": 1,
   "id": "6b3697ac",
   "metadata": {},
   "outputs": [
    {
     "name": "stdout",
     "output_type": "stream",
     "text": [
      "Enter a positive number 5\n",
      "120\n"
     ]
    }
   ],
   "source": [
    "num = int(input(\"Enter a positive number \"))\n",
    "fact=1\n",
    "while num>=1:\n",
    "    fact=fact*num\n",
    "    num=num-1\n",
    "print (fact)"
   ]
  },
  {
   "cell_type": "markdown",
   "id": "be8bdb8e",
   "metadata": {},
   "source": [
    "#### Write a Python Program to Display the multiplication Table?"
   ]
  },
  {
   "cell_type": "code",
   "execution_count": 2,
   "id": "011f3840",
   "metadata": {},
   "outputs": [
    {
     "name": "stdout",
     "output_type": "stream",
     "text": [
      "Enter a positive number 8\n",
      "8 * 1 =  8\n",
      "8 * 2 =  16\n",
      "8 * 3 =  24\n",
      "8 * 4 =  32\n",
      "8 * 5 =  40\n",
      "8 * 6 =  48\n",
      "8 * 7 =  56\n",
      "8 * 8 =  64\n",
      "8 * 9 =  72\n",
      "8 * 10 =  80\n"
     ]
    }
   ],
   "source": [
    "num = int(input(\"Enter a positive number \"))\n",
    "i=1\n",
    "while i<=10:\n",
    "    print (num, \"*\",i, '= ', num*i)\n",
    "    i+=1\n"
   ]
  },
  {
   "cell_type": "markdown",
   "id": "f9e95fc9",
   "metadata": {},
   "source": [
    "#### Write a Python Program to Print the Fibonacci sequence?"
   ]
  },
  {
   "cell_type": "code",
   "execution_count": 3,
   "id": "ed54a82a",
   "metadata": {},
   "outputs": [
    {
     "name": "stdout",
     "output_type": "stream",
     "text": [
      "Enter a number, Fibonacci sequence to be printed 8\n",
      "0\n",
      "1\n",
      "1\n",
      "2\n",
      "3\n",
      "5\n",
      "8\n",
      "13\n"
     ]
    }
   ],
   "source": [
    "num = int(input(\"Enter a number, Fibonacci sequence to be printed \"))\n",
    "if num>0:\n",
    "    n1, n2 = 0, 1\n",
    "    count = 0\n",
    "    while count < num:\n",
    "        print(n1)\n",
    "        nth = n1 + n2\n",
    "        n1 = n2\n",
    "        n2 = nth\n",
    "        count += 1"
   ]
  },
  {
   "cell_type": "markdown",
   "id": "42e23f6b",
   "metadata": {},
   "source": [
    "#### Write a Python Program to Check Armstrong Number?"
   ]
  },
  {
   "cell_type": "code",
   "execution_count": 4,
   "id": "ced460fb",
   "metadata": {},
   "outputs": [
    {
     "name": "stdout",
     "output_type": "stream",
     "text": [
      "Enter your number 153\n",
      "153 is an Armstrong number\n"
     ]
    }
   ],
   "source": [
    "num = int(input(\"Enter your number \"))\n",
    "exp = len(str(num))\n",
    "digt_sum = 0\n",
    "temp = num\n",
    "\n",
    "while temp>=10:\n",
    "    digt_sum+=(temp%10)**exp\n",
    "    temp=int(temp/10)\n",
    "if temp<10:\n",
    "    digt_sum+=temp**exp  \n",
    "    \n",
    "if num == digt_sum:\n",
    "    print(num,\"is an Armstrong number\")\n",
    "else:\n",
    "    print(num,\"is not an Armstrong number\")"
   ]
  },
  {
   "cell_type": "markdown",
   "id": "3d145b6a",
   "metadata": {},
   "source": [
    "#### Write a Python Program to Find Armstrong Number in an Interval?"
   ]
  },
  {
   "cell_type": "code",
   "execution_count": 5,
   "id": "85796bf5",
   "metadata": {},
   "outputs": [
    {
     "name": "stdout",
     "output_type": "stream",
     "text": [
      "Enter your lower limit number 100\n",
      "Enter your upper limit number 10000\n",
      "153\n",
      "370\n",
      "371\n",
      "407\n",
      "1634\n",
      "8208\n",
      "9474\n"
     ]
    }
   ],
   "source": [
    "num1 = int(input(\"Enter your lower limit number \"))\n",
    "num2 = int(input(\"Enter your upper limit number \"))\n",
    "\n",
    "for i in range(num1,num2,1):\n",
    "    exp = len(str(i))\n",
    "    digt_sum = 0\n",
    "    temp = i\n",
    "    \n",
    "    while temp>=10:\n",
    "        digt_sum+=(temp%10)**exp\n",
    "        temp=int(temp/10)\n",
    "    if temp<10:\n",
    "        digt_sum+=temp**exp  \n",
    "        \n",
    "    if i== digt_sum:\n",
    "        print(digt_sum)"
   ]
  },
  {
   "cell_type": "markdown",
   "id": "f38fb163",
   "metadata": {},
   "source": [
    "#### Write a Python Program to Find the Sum of Natural Numbers?"
   ]
  },
  {
   "cell_type": "code",
   "execution_count": 6,
   "id": "5249709b",
   "metadata": {},
   "outputs": [
    {
     "name": "stdout",
     "output_type": "stream",
     "text": [
      "Enter a positive number 15\n",
      "120.0\n"
     ]
    }
   ],
   "source": [
    "num = int(input(\"Enter a positive number \"))\n",
    "sum_=num*(num+1)/2\n",
    "print (sum_)"
   ]
  },
  {
   "cell_type": "markdown",
   "id": "8be6c841",
   "metadata": {},
   "source": [
    "#### The END"
   ]
  }
 ],
 "metadata": {
  "kernelspec": {
   "display_name": "Python 3 (ipykernel)",
   "language": "python",
   "name": "python3"
  },
  "language_info": {
   "codemirror_mode": {
    "name": "ipython",
    "version": 3
   },
   "file_extension": ".py",
   "mimetype": "text/x-python",
   "name": "python",
   "nbconvert_exporter": "python",
   "pygments_lexer": "ipython3",
   "version": "3.9.12"
  }
 },
 "nbformat": 4,
 "nbformat_minor": 5
}
