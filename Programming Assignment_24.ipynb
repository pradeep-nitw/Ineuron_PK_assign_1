{
 "cells": [
  {
   "cell_type": "markdown",
   "id": "9e447f3f",
   "metadata": {},
   "source": [
    "#### Create a function that takes an integer and returns a list from 1 to the given number, where:\n",
    "1.If the number can be divided evenly by 4, amplify it by 10 (i.e. return 10 times the number).\n",
    "\n",
    "2.If the number cannot be divided evenly by 4, simply return the number."
   ]
  },
  {
   "cell_type": "code",
   "execution_count": 1,
   "id": "fa198fcc",
   "metadata": {},
   "outputs": [],
   "source": [
    "def amplify(num):\n",
    "    \"\"\"This returns returns a list from 1 to the given number,if not divided by 4 or else amplified by 10\"\"\"\n",
    "    l1=[]\n",
    "    i=1\n",
    "    while i<=num:\n",
    "        if i%4!=0:\n",
    "            l1.append(i)    \n",
    "        else:\n",
    "            l1.append(i*10)\n",
    "        i+=1\n",
    "    print (l1)"
   ]
  },
  {
   "cell_type": "code",
   "execution_count": 2,
   "id": "6dd662af",
   "metadata": {},
   "outputs": [
    {
     "name": "stdout",
     "output_type": "stream",
     "text": [
      "[1, 2, 3, 40]\n"
     ]
    }
   ],
   "source": [
    "amplify(4)"
   ]
  },
  {
   "cell_type": "code",
   "execution_count": 3,
   "id": "edc875a4",
   "metadata": {},
   "outputs": [
    {
     "name": "stdout",
     "output_type": "stream",
     "text": [
      "[1, 2, 3]\n"
     ]
    }
   ],
   "source": [
    "amplify(3) "
   ]
  },
  {
   "cell_type": "code",
   "execution_count": 4,
   "id": "bf1c5921",
   "metadata": {},
   "outputs": [
    {
     "name": "stdout",
     "output_type": "stream",
     "text": [
      "[1, 2, 3, 40, 5, 6, 7, 80, 9, 10, 11, 120, 13, 14, 15, 160, 17, 18, 19, 200, 21, 22, 23, 240, 25]\n"
     ]
    }
   ],
   "source": [
    "amplify(25) "
   ]
  },
  {
   "cell_type": "markdown",
   "id": "9895d64b",
   "metadata": {},
   "source": [
    "##### Q1. Using List Comprehension"
   ]
  },
  {
   "cell_type": "code",
   "execution_count": 5,
   "id": "9f752ff4",
   "metadata": {},
   "outputs": [
    {
     "name": "stdout",
     "output_type": "stream",
     "text": [
      "25\n",
      "[1, 2, 3, 40, 5, 6, 7, 80, 9, 10, 11, 120, 13, 14, 15, 160, 17, 18, 19, 200, 21, 22, 23, 240, 25]\n"
     ]
    }
   ],
   "source": [
    "#This returns returns a list from 1 to the given number,if not divided by 4 or else amplified by 10\n",
    "l1 = [i if i % 4 != 0\n",
    "       else i*10 for i in range(1,int(input())+1)]\n",
    "print (l1)"
   ]
  },
  {
   "cell_type": "markdown",
   "id": "dc87c6c9",
   "metadata": {},
   "source": [
    "#### Create a function that takes a list of numbers and return the number that's unique."
   ]
  },
  {
   "cell_type": "code",
   "execution_count": 6,
   "id": "c7674744",
   "metadata": {},
   "outputs": [],
   "source": [
    "def unique(l1):\n",
    "    \"\"\"This takes a list of numbers and return the number that's unique.\"\"\"\n",
    "    for i in range(len(l1)):\n",
    "        if l1[i-1]!=l1[i]==l1[i+1]:\n",
    "            break\n",
    "    return l1[i-1]"
   ]
  },
  {
   "cell_type": "code",
   "execution_count": 7,
   "id": "5b986962",
   "metadata": {},
   "outputs": [
    {
     "data": {
      "text/plain": [
       "7"
      ]
     },
     "execution_count": 7,
     "metadata": {},
     "output_type": "execute_result"
    }
   ],
   "source": [
    "unique([3, 3, 3, 7, 3, 3])"
   ]
  },
  {
   "cell_type": "code",
   "execution_count": 8,
   "id": "cef0fe36",
   "metadata": {},
   "outputs": [
    {
     "data": {
      "text/plain": [
       "0.77"
      ]
     },
     "execution_count": 8,
     "metadata": {},
     "output_type": "execute_result"
    }
   ],
   "source": [
    "unique([0, 0, 0.77, 0, 0]) "
   ]
  },
  {
   "cell_type": "code",
   "execution_count": 9,
   "id": "77ee3872",
   "metadata": {},
   "outputs": [
    {
     "data": {
      "text/plain": [
       "0"
      ]
     },
     "execution_count": 9,
     "metadata": {},
     "output_type": "execute_result"
    }
   ],
   "source": [
    "unique([0,1, 1, 1, 1, 1, 1, 1]) "
   ]
  },
  {
   "cell_type": "code",
   "execution_count": 10,
   "id": "66c08c2d",
   "metadata": {},
   "outputs": [
    {
     "data": {
      "text/plain": [
       "0"
      ]
     },
     "execution_count": 10,
     "metadata": {},
     "output_type": "execute_result"
    }
   ],
   "source": [
    "unique([1, 1, 1, 1,0]) "
   ]
  },
  {
   "cell_type": "markdown",
   "id": "728f1570",
   "metadata": {},
   "source": [
    "#### Your task is to create a Circle constructor that creates a circle with a radius provided by an argument. The circles constructed must have two getters getArea() (PIr^2) and getPerimeter() (2PI*r) which give both respective areas and perimeter (circumference).\n",
    "For help with this class, I have provided you with a Rectangle constructor which you can use as a base example.\n"
   ]
  },
  {
   "cell_type": "code",
   "execution_count": 11,
   "id": "d4c16e3c",
   "metadata": {},
   "outputs": [],
   "source": [
    "import math\n",
    "class Circle:\n",
    "    def __init__(self,radius):\n",
    "        self.radius=radius\n",
    "        \n",
    "    def getArea(self):\n",
    "        return round(math.pi*self.radius**2)\n",
    "    \n",
    "    def getPerimeter(self):\n",
    "        return round(2*math.pi*self.radius)"
   ]
  },
  {
   "cell_type": "code",
   "execution_count": 12,
   "id": "82afd884",
   "metadata": {},
   "outputs": [
    {
     "data": {
      "text/plain": [
       "380"
      ]
     },
     "execution_count": 12,
     "metadata": {},
     "output_type": "execute_result"
    }
   ],
   "source": [
    "circy = Circle(11)\n",
    "circy.getArea()"
   ]
  },
  {
   "cell_type": "code",
   "execution_count": 13,
   "id": "d1da9350",
   "metadata": {},
   "outputs": [
    {
     "data": {
      "text/plain": [
       "28"
      ]
     },
     "execution_count": 13,
     "metadata": {},
     "output_type": "execute_result"
    }
   ],
   "source": [
    "circy = Circle(4.44)\n",
    "circy.getPerimeter()\n"
   ]
  },
  {
   "cell_type": "markdown",
   "id": "e398c5cf",
   "metadata": {},
   "source": [
    "#### Create a function that takes a list of strings and return a list, sorted from shortest to longest."
   ]
  },
  {
   "cell_type": "code",
   "execution_count": 14,
   "id": "9496570a",
   "metadata": {},
   "outputs": [],
   "source": [
    "def sort_by_length(l1):\n",
    "    \"\"\"This takes a list of strings and return a list, sorted from shortest to longest.\"\"\"\n",
    "    l2=[]\n",
    "    dict1={}\n",
    "    for i in range(len(l1)):\n",
    "        dict1[len(l1[i])]=l1[i]\n",
    "        \n",
    "    for key1 in sorted(dict1):\n",
    "        l2.append(dict1[key1])\n",
    "    return l2"
   ]
  },
  {
   "cell_type": "code",
   "execution_count": 15,
   "id": "c1a2e59c",
   "metadata": {},
   "outputs": [
    {
     "data": {
      "text/plain": [
       "['Apple', 'Google', 'Microsoft']"
      ]
     },
     "execution_count": 15,
     "metadata": {},
     "output_type": "execute_result"
    }
   ],
   "source": [
    "sort_by_length([\"Google\", \"Apple\", \"Microsoft\"])"
   ]
  },
  {
   "cell_type": "code",
   "execution_count": 16,
   "id": "706b9764",
   "metadata": {},
   "outputs": [
    {
     "data": {
      "text/plain": [
       "['Raphael', 'Leonardo', 'Donatello', 'Michelangelo']"
      ]
     },
     "execution_count": 16,
     "metadata": {},
     "output_type": "execute_result"
    }
   ],
   "source": [
    "sort_by_length([\"Leonardo\", \"Michelangelo\", \"Raphael\", \"Donatello\"])"
   ]
  },
  {
   "cell_type": "code",
   "execution_count": 17,
   "id": "60fbc282",
   "metadata": {},
   "outputs": [
    {
     "data": {
      "text/plain": [
       "['Jung', 'Turing', 'Einstein']"
      ]
     },
     "execution_count": 17,
     "metadata": {},
     "output_type": "execute_result"
    }
   ],
   "source": [
    "sort_by_length([\"Turing\", \"Einstein\", \"Jung\"])"
   ]
  },
  {
   "cell_type": "markdown",
   "id": "3a98fb91",
   "metadata": {},
   "source": [
    "#### Create a function that validates whether three given integers form a Pythagorean triplet. The sum of the squares of the two smallest integers must equal the square of the largest number to be validated."
   ]
  },
  {
   "cell_type": "code",
   "execution_count": 18,
   "id": "6ef259e5",
   "metadata": {},
   "outputs": [],
   "source": [
    "def is_triplet(a,b,c):\n",
    "    \"\"\"This checks a Pythagorean triplet. \"\"\"\n",
    "    if (a**2==b**2+c**2 or b**2==a**2+c**2 or c**2==a**2+b**2):\n",
    "        return True\n",
    "    else:\n",
    "        return False"
   ]
  },
  {
   "cell_type": "code",
   "execution_count": 19,
   "id": "d5426dd6",
   "metadata": {},
   "outputs": [
    {
     "data": {
      "text/plain": [
       "True"
      ]
     },
     "execution_count": 19,
     "metadata": {},
     "output_type": "execute_result"
    }
   ],
   "source": [
    "is_triplet(3, 4, 5) "
   ]
  },
  {
   "cell_type": "code",
   "execution_count": 20,
   "id": "2fda9754",
   "metadata": {},
   "outputs": [
    {
     "data": {
      "text/plain": [
       "True"
      ]
     },
     "execution_count": 20,
     "metadata": {},
     "output_type": "execute_result"
    }
   ],
   "source": [
    "is_triplet(13, 5, 12)"
   ]
  },
  {
   "cell_type": "code",
   "execution_count": 21,
   "id": "e07dd68c",
   "metadata": {},
   "outputs": [
    {
     "data": {
      "text/plain": [
       "False"
      ]
     },
     "execution_count": 21,
     "metadata": {},
     "output_type": "execute_result"
    }
   ],
   "source": [
    "is_triplet(1, 2, 3)"
   ]
  },
  {
   "cell_type": "markdown",
   "id": "1eae8523",
   "metadata": {},
   "source": [
    "#### The END"
   ]
  }
 ],
 "metadata": {
  "kernelspec": {
   "display_name": "Python 3 (ipykernel)",
   "language": "python",
   "name": "python3"
  },
  "language_info": {
   "codemirror_mode": {
    "name": "ipython",
    "version": 3
   },
   "file_extension": ".py",
   "mimetype": "text/x-python",
   "name": "python",
   "nbconvert_exporter": "python",
   "pygments_lexer": "ipython3",
   "version": "3.9.12"
  }
 },
 "nbformat": 4,
 "nbformat_minor": 5
}
