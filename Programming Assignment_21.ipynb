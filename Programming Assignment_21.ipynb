{
 "cells": [
  {
   "cell_type": "markdown",
   "id": "9fd15f00",
   "metadata": {},
   "source": [
    "#### Write a function that takes a list and a number as arguments. Add the number to the end of the list, then remove the first element of the list. The function should then return the updated list."
   ]
  },
  {
   "cell_type": "code",
   "execution_count": 1,
   "id": "17338e37",
   "metadata": {},
   "outputs": [],
   "source": [
    "def next_in_line(l1,num):\n",
    "    \"\"\"This adds the number to the end of the list, then remove the first element of the list..\"\"\"\n",
    "    l2=[]\n",
    "    if len(l1)>0:\n",
    "        for i in range(len(l1)-1):\n",
    "            l2.append(l1[i+1])\n",
    "        l2.append(num)\n",
    "        return l2\n",
    "    else:\n",
    "        print(\"No list has been selected\")"
   ]
  },
  {
   "cell_type": "code",
   "execution_count": 2,
   "id": "69955679",
   "metadata": {},
   "outputs": [
    {
     "data": {
      "text/plain": [
       "[6, 7, 8, 9, 1]"
      ]
     },
     "execution_count": 2,
     "metadata": {},
     "output_type": "execute_result"
    }
   ],
   "source": [
    "next_in_line([5, 6, 7, 8, 9], 1) "
   ]
  },
  {
   "cell_type": "code",
   "execution_count": 3,
   "id": "1d288352",
   "metadata": {},
   "outputs": [
    {
     "data": {
      "text/plain": [
       "[6, 3, 23, 17, 10]"
      ]
     },
     "execution_count": 3,
     "metadata": {},
     "output_type": "execute_result"
    }
   ],
   "source": [
    "next_in_line([7, 6, 3, 23, 17], 10) "
   ]
  },
  {
   "cell_type": "code",
   "execution_count": 4,
   "id": "643ce4d0",
   "metadata": {},
   "outputs": [
    {
     "data": {
      "text/plain": [
       "[10, 20, 42, 6]"
      ]
     },
     "execution_count": 4,
     "metadata": {},
     "output_type": "execute_result"
    }
   ],
   "source": [
    "next_in_line([1, 10, 20, 42 ], 6) "
   ]
  },
  {
   "cell_type": "code",
   "execution_count": 5,
   "id": "8229f057",
   "metadata": {},
   "outputs": [
    {
     "name": "stdout",
     "output_type": "stream",
     "text": [
      "No list has been selected\n"
     ]
    }
   ],
   "source": [
    "next_in_line([], 6) "
   ]
  },
  {
   "cell_type": "markdown",
   "id": "31fb1068",
   "metadata": {},
   "source": [
    "#### Create the function that takes a list of dictionaries and returns the sum of people's budgets."
   ]
  },
  {
   "cell_type": "code",
   "execution_count": 6,
   "id": "dfd75da3",
   "metadata": {},
   "outputs": [],
   "source": [
    "def get_budgets(l1):\n",
    "    \"\"\"This takes a list of dictionaries and returns the sum of people's budget.\"\"\"\n",
    "    budget=0\n",
    "    for i in range(len(l1)):\n",
    "        budget+=l1[i][\"budget\"]\n",
    "    return budget"
   ]
  },
  {
   "cell_type": "code",
   "execution_count": 7,
   "id": "b53bc638",
   "metadata": {},
   "outputs": [
    {
     "data": {
      "text/plain": [
       "65700"
      ]
     },
     "execution_count": 7,
     "metadata": {},
     "output_type": "execute_result"
    }
   ],
   "source": [
    "get_budgets([\n",
    "  { \"name\": \"John\", \"age\": 21, \"budget\": 23000 },\n",
    "  { \"name\": \"Steve\",  \"age\": 32, \"budget\": 40000 },\n",
    "  { \"name\": \"Martin\",  \"age\": 16, \"budget\": 2700 }\n",
    "]) "
   ]
  },
  {
   "cell_type": "code",
   "execution_count": 8,
   "id": "d60ac120",
   "metadata": {},
   "outputs": [
    {
     "data": {
      "text/plain": [
       "62600"
      ]
     },
     "execution_count": 8,
     "metadata": {},
     "output_type": "execute_result"
    }
   ],
   "source": [
    "get_budgets([\n",
    "  { \"name\": \"John\",  \"age\": 21, \"budget\": 29000 },\n",
    "  { \"name\": \"Steve\",  \"age\": 32, \"budget\": 32000 },\n",
    "  { \"name\": \"Martin\",  \"age\": 16, \"budget\": 1600 }\n",
    "]) "
   ]
  },
  {
   "cell_type": "markdown",
   "id": "b725a2e2",
   "metadata": {},
   "source": [
    "#### Create a function that takes a string and returns a string with its letters in alphabetical order."
   ]
  },
  {
   "cell_type": "code",
   "execution_count": 9,
   "id": "9875e0f6",
   "metadata": {},
   "outputs": [],
   "source": [
    "def alphabet_soup(str1) :\n",
    "    \"\"\"This takes a string and returns a string with its letters in alphabetical order.\"\"\"\n",
    "    str2=''\n",
    "    for i in sorted(str1):\n",
    "        str2+=i\n",
    "    return str2"
   ]
  },
  {
   "cell_type": "code",
   "execution_count": 10,
   "id": "a32826e7",
   "metadata": {},
   "outputs": [
    {
     "data": {
      "text/plain": [
       "'ehllo'"
      ]
     },
     "execution_count": 10,
     "metadata": {},
     "output_type": "execute_result"
    }
   ],
   "source": [
    "alphabet_soup(\"hello\") "
   ]
  },
  {
   "cell_type": "code",
   "execution_count": 11,
   "id": "19bae9a5",
   "metadata": {},
   "outputs": [
    {
     "data": {
      "text/plain": [
       "'abdeit'"
      ]
     },
     "execution_count": 11,
     "metadata": {},
     "output_type": "execute_result"
    }
   ],
   "source": [
    "alphabet_soup(\"edabit\") "
   ]
  },
  {
   "cell_type": "code",
   "execution_count": 12,
   "id": "e2dbcc62",
   "metadata": {},
   "outputs": [
    {
     "data": {
      "text/plain": [
       "'acehkr'"
      ]
     },
     "execution_count": 12,
     "metadata": {},
     "output_type": "execute_result"
    }
   ],
   "source": [
    "alphabet_soup(\"hacker\") "
   ]
  },
  {
   "cell_type": "code",
   "execution_count": 13,
   "id": "3e90fd54",
   "metadata": {},
   "outputs": [
    {
     "data": {
      "text/plain": [
       "'eegk'"
      ]
     },
     "execution_count": 13,
     "metadata": {},
     "output_type": "execute_result"
    }
   ],
   "source": [
    "alphabet_soup(\"geek\") "
   ]
  },
  {
   "cell_type": "code",
   "execution_count": 14,
   "id": "5c23feea",
   "metadata": {},
   "outputs": [
    {
     "data": {
      "text/plain": [
       "'aacijprstv'"
      ]
     },
     "execution_count": 14,
     "metadata": {},
     "output_type": "execute_result"
    }
   ],
   "source": [
    "alphabet_soup(\"javascript\")"
   ]
  },
  {
   "cell_type": "markdown",
   "id": "6443afec",
   "metadata": {},
   "source": [
    "##### Suppose that you invest $10,000 for 10 years at an interest rate of 6% compounded monthly. What will be the value of your investment at the end of the 10 year period?\n",
    "Create a function that accepts the principal p, the term in years t, the interest rate r, and the number of compounding periods per year n. The function returns the value at the end of term rounded to the nearest cent.\n",
    "For the example above:\n",
    "compound_interest(10000, 10, 0.06, 12) ➞ 18193.97\n",
    "Note that the interest rate is given as a decimal and n=12 because with monthly compounding there are 12 periods per year. Compounding can also be done annually, quarterly, weekly, or daily.\n"
   ]
  },
  {
   "cell_type": "code",
   "execution_count": 15,
   "id": "ccdef1f0",
   "metadata": {},
   "outputs": [],
   "source": [
    "def compound_interest(p, t, r, n) :\n",
    "    \"\"\"This calculates the compounded interest.\"\"\"\n",
    "    interest=round(p*(1+r/n)**(t*n),2)\n",
    "    return interest"
   ]
  },
  {
   "cell_type": "code",
   "execution_count": 16,
   "id": "82063c85",
   "metadata": {},
   "outputs": [
    {
     "data": {
      "text/plain": [
       "105.0"
      ]
     },
     "execution_count": 16,
     "metadata": {},
     "output_type": "execute_result"
    }
   ],
   "source": [
    "compound_interest(100, 1, 0.05, 1) "
   ]
  },
  {
   "cell_type": "code",
   "execution_count": 17,
   "id": "c03d1427",
   "metadata": {},
   "outputs": [
    {
     "data": {
      "text/plain": [
       "15399.26"
      ]
     },
     "execution_count": 17,
     "metadata": {},
     "output_type": "execute_result"
    }
   ],
   "source": [
    "compound_interest(3500, 15, 0.1, 4) "
   ]
  },
  {
   "cell_type": "code",
   "execution_count": 18,
   "id": "d8606973",
   "metadata": {},
   "outputs": [
    {
     "data": {
      "text/plain": [
       "2007316.26"
      ]
     },
     "execution_count": 18,
     "metadata": {},
     "output_type": "execute_result"
    }
   ],
   "source": [
    "compound_interest(100000, 20, 0.15, 365) "
   ]
  },
  {
   "cell_type": "markdown",
   "id": "7f68a1aa",
   "metadata": {},
   "source": [
    "#### Write a function that takes a list of elements and returns only the integers."
   ]
  },
  {
   "cell_type": "code",
   "execution_count": 19,
   "id": "41b56d7a",
   "metadata": {},
   "outputs": [],
   "source": [
    "def return_only_integer(l1):\n",
    "    \"\"\"This takes a list of elements and returns only the integers.\"\"\"\n",
    "    l2=[]\n",
    "    for i in l1:\n",
    "        if type(i)==int:\n",
    "            l2.append(i)\n",
    "    return l2"
   ]
  },
  {
   "cell_type": "code",
   "execution_count": 20,
   "id": "5244aa39",
   "metadata": {},
   "outputs": [
    {
     "data": {
      "text/plain": [
       "[9, 2, 16]"
      ]
     },
     "execution_count": 20,
     "metadata": {},
     "output_type": "execute_result"
    }
   ],
   "source": [
    "return_only_integer([9, 2, \"space\", \"car\", \"lion\", 16])"
   ]
  },
  {
   "cell_type": "code",
   "execution_count": 21,
   "id": "1b2345d9",
   "metadata": {},
   "outputs": [
    {
     "data": {
      "text/plain": [
       "[81, 123]"
      ]
     },
     "execution_count": 21,
     "metadata": {},
     "output_type": "execute_result"
    }
   ],
   "source": [
    "return_only_integer([\"hello\", 81, \"basketball\", 123, \"fox\"]) "
   ]
  },
  {
   "cell_type": "code",
   "execution_count": 22,
   "id": "42d3f1a8",
   "metadata": {},
   "outputs": [
    {
     "data": {
      "text/plain": [
       "[10, 56, 20, 3]"
      ]
     },
     "execution_count": 22,
     "metadata": {},
     "output_type": "execute_result"
    }
   ],
   "source": [
    "return_only_integer([10, \"121\", 56, 20, \"car\", 3, \"lion\"]) "
   ]
  },
  {
   "cell_type": "code",
   "execution_count": 23,
   "id": "4c25179e",
   "metadata": {},
   "outputs": [
    {
     "data": {
      "text/plain": [
       "[1]"
      ]
     },
     "execution_count": 23,
     "metadata": {},
     "output_type": "execute_result"
    }
   ],
   "source": [
    "return_only_integer([\"String\",  True,  3.3,  1]) "
   ]
  },
  {
   "cell_type": "markdown",
   "id": "fd4ee82e",
   "metadata": {},
   "source": [
    "### The END"
   ]
  }
 ],
 "metadata": {
  "kernelspec": {
   "display_name": "Python 3 (ipykernel)",
   "language": "python",
   "name": "python3"
  },
  "language_info": {
   "codemirror_mode": {
    "name": "ipython",
    "version": 3
   },
   "file_extension": ".py",
   "mimetype": "text/x-python",
   "name": "python",
   "nbconvert_exporter": "python",
   "pygments_lexer": "ipython3",
   "version": "3.9.12"
  }
 },
 "nbformat": 4,
 "nbformat_minor": 5
}
