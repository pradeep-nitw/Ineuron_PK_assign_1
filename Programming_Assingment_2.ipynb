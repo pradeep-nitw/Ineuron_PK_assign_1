{
 "cells": [
  {
   "cell_type": "markdown",
   "id": "819a36fe",
   "metadata": {},
   "source": [
    "##### Write a Python program to convert kilometers to miles?"
   ]
  },
  {
   "cell_type": "code",
   "execution_count": 1,
   "id": "1546f182",
   "metadata": {},
   "outputs": [
    {
     "name": "stdout",
     "output_type": "stream",
     "text": [
      "Enter your distance in Kilometers to convert into miles 15\n",
      "Your distance in miles is 9.323\n"
     ]
    }
   ],
   "source": [
    "var1 = float(input(\"Enter your distance in Kilometers to convert into miles \"))\n",
    "miles_= round(var1/1.609,3)\n",
    "print (\"Your distance in miles is \"+ str(miles_))"
   ]
  },
  {
   "cell_type": "markdown",
   "id": "32cd4629",
   "metadata": {},
   "source": [
    "##### Write a Python program to convert Celsius to Fahrenheit?"
   ]
  },
  {
   "cell_type": "code",
   "execution_count": 2,
   "id": "46cd293e",
   "metadata": {},
   "outputs": [
    {
     "name": "stdout",
     "output_type": "stream",
     "text": [
      "Enter your temperature in Celsius to convert into Fahrenheit 30\n",
      "Your temperature in Fahrenheit is 86.0\n"
     ]
    }
   ],
   "source": [
    "var1 = float(input(\"Enter your temperature in Celsius to convert into Fahrenheit \"))\n",
    "Fahrenheit_= round(var1*9/5+32,2)\n",
    "print (\"Your temperature in Fahrenheit is \"+ str(Fahrenheit_))"
   ]
  },
  {
   "cell_type": "markdown",
   "id": "3ce23039",
   "metadata": {},
   "source": [
    "##### Write a Python program to display calendar?"
   ]
  },
  {
   "cell_type": "code",
   "execution_count": 3,
   "id": "bdf8ac6b",
   "metadata": {},
   "outputs": [
    {
     "name": "stdout",
     "output_type": "stream",
     "text": [
      "Enter Calender Year 2022\n",
      "Enter Calender month 11\n",
      "   November 2022\n",
      "Mo Tu We Th Fr Sa Su\n",
      "    1  2  3  4  5  6\n",
      " 7  8  9 10 11 12 13\n",
      "14 15 16 17 18 19 20\n",
      "21 22 23 24 25 26 27\n",
      "28 29 30\n",
      "\n"
     ]
    }
   ],
   "source": [
    "import calendar\n",
    "year_ = int(input(\"Enter Calender Year \"))\n",
    "month_= int(input(\"Enter Calender month \"))\n",
    "print (calendar.month(year_, month_))"
   ]
  },
  {
   "cell_type": "markdown",
   "id": "b548e34a",
   "metadata": {},
   "source": [
    "##### Write a Python program to solve quadratic equation?"
   ]
  },
  {
   "cell_type": "code",
   "execution_count": 4,
   "id": "9d2c2973",
   "metadata": {},
   "outputs": [
    {
     "name": "stdout",
     "output_type": "stream",
     "text": [
      "Enter the X2 coefficient 5\n",
      "Enter the X coefficient 6\n",
      "Enter the constant 8\n",
      "Your solutions are:(-15+27.83882181415011j) & (-15-27.83882181415011j)\n"
     ]
    }
   ],
   "source": [
    "#The quadratic euation is in the form of aX2+bX+C=0\n",
    "import cmath\n",
    "a = float(input(\"Enter the X2 coefficient \"))\n",
    "b = float(input(\"Enter the X coefficient \"))\n",
    "c = float(input(\"Enter the constant \"))\n",
    "x1=(-b+cmath.sqrt(b**2-4*a*c))/2*a\n",
    "x2=(-b-cmath.sqrt(b**2-4*a*c))/2*a\n",
    "if x1.imag==0:\n",
    "    print (\"Your solutions are:\"+ str(x1.real) +\" & \"+ str(x2.real))\n",
    "else:\n",
    "    print (\"Your solutions are:\"+ str(x1) +\" & \"+ str(x2))"
   ]
  },
  {
   "cell_type": "markdown",
   "id": "6c691382",
   "metadata": {},
   "source": [
    "##### Write a Python program to swap two variables without temp variable?"
   ]
  },
  {
   "cell_type": "code",
   "execution_count": 5,
   "id": "817fb4f1",
   "metadata": {},
   "outputs": [
    {
     "name": "stdout",
     "output_type": "stream",
     "text": [
      "Enter the first variable 5\n",
      "Enter the second variable 6\n",
      "After swaping variables are:\n",
      "6 5\n"
     ]
    }
   ],
   "source": [
    "var1 = input(\"Enter the first variable \")\n",
    "var2= input(\"Enter the second variable \")\n",
    "var1,var2 = var2,var1\n",
    "print(\"After swaping variables are:\")\n",
    "print (var1,var2)"
   ]
  },
  {
   "cell_type": "markdown",
   "id": "7fd48135",
   "metadata": {},
   "source": [
    "#### The End"
   ]
  }
 ],
 "metadata": {
  "kernelspec": {
   "display_name": "Python 3 (ipykernel)",
   "language": "python",
   "name": "python3"
  },
  "language_info": {
   "codemirror_mode": {
    "name": "ipython",
    "version": 3
   },
   "file_extension": ".py",
   "mimetype": "text/x-python",
   "name": "python",
   "nbconvert_exporter": "python",
   "pygments_lexer": "ipython3",
   "version": "3.7.2"
  }
 },
 "nbformat": 4,
 "nbformat_minor": 5
}
