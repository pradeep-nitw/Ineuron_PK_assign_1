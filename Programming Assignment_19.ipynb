{
 "cells": [
  {
   "cell_type": "markdown",
   "id": "a392dd80",
   "metadata": {},
   "source": [
    "#### Create a function that takes a string and returns a string in which each character is repeated once."
   ]
  },
  {
   "cell_type": "code",
   "execution_count": 1,
   "id": "c5791c1e",
   "metadata": {},
   "outputs": [],
   "source": [
    "def double_char(str1):\n",
    "    \"\"\"This takes a string and returns a string in which each character is repeated once.\"\"\"\n",
    "    str2=\"\"\n",
    "    for i in str1:\n",
    "            str2+=(i+i)\n",
    "    return str2"
   ]
  },
  {
   "cell_type": "code",
   "execution_count": 2,
   "id": "4cd9f547",
   "metadata": {},
   "outputs": [
    {
     "data": {
      "text/plain": [
       "'SSttrriinngg'"
      ]
     },
     "execution_count": 2,
     "metadata": {},
     "output_type": "execute_result"
    }
   ],
   "source": [
    "double_char(\"String\") "
   ]
  },
  {
   "cell_type": "code",
   "execution_count": 3,
   "id": "614ea570",
   "metadata": {},
   "outputs": [
    {
     "data": {
      "text/plain": [
       "'HHeelllloo  WWoorrlldd!!'"
      ]
     },
     "execution_count": 3,
     "metadata": {},
     "output_type": "execute_result"
    }
   ],
   "source": [
    "double_char(\"Hello World!\")"
   ]
  },
  {
   "cell_type": "code",
   "execution_count": 4,
   "id": "f1e686bd",
   "metadata": {},
   "outputs": [
    {
     "data": {
      "text/plain": [
       "'11223344!!__  '"
      ]
     },
     "execution_count": 4,
     "metadata": {},
     "output_type": "execute_result"
    }
   ],
   "source": [
    "double_char(\"1234!_ \") "
   ]
  },
  {
   "cell_type": "markdown",
   "id": "978513d9",
   "metadata": {},
   "source": [
    "#### Create a function that reverses a boolean value and returns the string \"boolean expected\" if another variable type is given."
   ]
  },
  {
   "cell_type": "code",
   "execution_count": 13,
   "id": "9387a3ca",
   "metadata": {},
   "outputs": [],
   "source": [
    "def reverse(boolean):\n",
    "    \"\"\"This reverses a boolean value and returns the string \"boolean expected\" if another variable type is given.\"\"\"\n",
    "    if type(boolean)==bool:\n",
    "        return not boolean\n",
    "    else:\n",
    "        return \"boolean expected\""
   ]
  },
  {
   "cell_type": "code",
   "execution_count": 15,
   "id": "36589313",
   "metadata": {},
   "outputs": [
    {
     "data": {
      "text/plain": [
       "False"
      ]
     },
     "execution_count": 15,
     "metadata": {},
     "output_type": "execute_result"
    }
   ],
   "source": [
    "reverse(True) "
   ]
  },
  {
   "cell_type": "code",
   "execution_count": 16,
   "id": "3b682e15",
   "metadata": {},
   "outputs": [
    {
     "data": {
      "text/plain": [
       "True"
      ]
     },
     "execution_count": 16,
     "metadata": {},
     "output_type": "execute_result"
    }
   ],
   "source": [
    "reverse(False) "
   ]
  },
  {
   "cell_type": "code",
   "execution_count": 17,
   "id": "ae50074a",
   "metadata": {},
   "outputs": [
    {
     "data": {
      "text/plain": [
       "'boolean expected'"
      ]
     },
     "execution_count": 17,
     "metadata": {},
     "output_type": "execute_result"
    }
   ],
   "source": [
    "reverse(0) "
   ]
  },
  {
   "cell_type": "code",
   "execution_count": 18,
   "id": "22865bf6",
   "metadata": {},
   "outputs": [
    {
     "data": {
      "text/plain": [
       "'boolean expected'"
      ]
     },
     "execution_count": 18,
     "metadata": {},
     "output_type": "execute_result"
    }
   ],
   "source": [
    "reverse(None) "
   ]
  },
  {
   "cell_type": "markdown",
   "id": "ffeef42d",
   "metadata": {},
   "source": [
    "#### Create a function that returns the thickness (in meters) of a piece of paper after folding it n number of times. The paper starts off with a thickness of 0.5mm."
   ]
  },
  {
   "cell_type": "code",
   "execution_count": 52,
   "id": "d954708b",
   "metadata": {},
   "outputs": [],
   "source": [
    "def num_layers(num):\n",
    "    \"\"\"This returns the thickness (in meters) of a piece of paper after folding it n number of times.\"\"\"\n",
    "    thickness=0.5*2**(num)/1000\n",
    "    return thickness"
   ]
  },
  {
   "cell_type": "code",
   "execution_count": 53,
   "id": "4ed6e245",
   "metadata": {},
   "outputs": [
    {
     "data": {
      "text/plain": [
       "0.001"
      ]
     },
     "execution_count": 53,
     "metadata": {},
     "output_type": "execute_result"
    }
   ],
   "source": [
    "num_layers(1) "
   ]
  },
  {
   "cell_type": "code",
   "execution_count": 54,
   "id": "e82a5289",
   "metadata": {},
   "outputs": [
    {
     "data": {
      "text/plain": [
       "0.008"
      ]
     },
     "execution_count": 54,
     "metadata": {},
     "output_type": "execute_result"
    }
   ],
   "source": [
    "num_layers(4) "
   ]
  },
  {
   "cell_type": "code",
   "execution_count": 55,
   "id": "dfca8e6e",
   "metadata": {},
   "outputs": [
    {
     "data": {
      "text/plain": [
       "1048.576"
      ]
     },
     "execution_count": 55,
     "metadata": {},
     "output_type": "execute_result"
    }
   ],
   "source": [
    "num_layers(21) "
   ]
  },
  {
   "cell_type": "markdown",
   "id": "13538fda",
   "metadata": {},
   "source": [
    "#### Create a function that takes a single string as argument and returns an ordered list containing the indices of all capital letters in the string."
   ]
  },
  {
   "cell_type": "code",
   "execution_count": 31,
   "id": "c86d5e4f",
   "metadata": {},
   "outputs": [],
   "source": [
    "def index_of_caps(str1):\n",
    "    \"\"\"This takes a single string as argument and returns an ordered list containing the indices of all capital letters in the string\"\"\"\n",
    "    l1=[]\n",
    "    for i in range(len(str1)):\n",
    "        if 65<=ord(str1[i])<=90:\n",
    "            l1.append(i)\n",
    "    return l1"
   ]
  },
  {
   "cell_type": "code",
   "execution_count": 32,
   "id": "5859755a",
   "metadata": {},
   "outputs": [
    {
     "data": {
      "text/plain": [
       "[1, 3, 5]"
      ]
     },
     "execution_count": 32,
     "metadata": {},
     "output_type": "execute_result"
    }
   ],
   "source": [
    "index_of_caps(\"eDaBiT\")"
   ]
  },
  {
   "cell_type": "code",
   "execution_count": 33,
   "id": "a6cafe4e",
   "metadata": {},
   "outputs": [
    {
     "data": {
      "text/plain": [
       "[1, 3, 4, 6]"
      ]
     },
     "execution_count": 33,
     "metadata": {},
     "output_type": "execute_result"
    }
   ],
   "source": [
    "index_of_caps(\"eQuINoX\") "
   ]
  },
  {
   "cell_type": "code",
   "execution_count": 34,
   "id": "c7b0874b",
   "metadata": {},
   "outputs": [
    {
     "data": {
      "text/plain": [
       "[]"
      ]
     },
     "execution_count": 34,
     "metadata": {},
     "output_type": "execute_result"
    }
   ],
   "source": [
    "index_of_caps(\"determine\") "
   ]
  },
  {
   "cell_type": "code",
   "execution_count": 35,
   "id": "8d24a56e",
   "metadata": {},
   "outputs": [
    {
     "data": {
      "text/plain": [
       "[0, 1, 2, 3, 4, 5]"
      ]
     },
     "execution_count": 35,
     "metadata": {},
     "output_type": "execute_result"
    }
   ],
   "source": [
    "index_of_caps(\"STRIKE\") "
   ]
  },
  {
   "cell_type": "code",
   "execution_count": 36,
   "id": "7e15ad23",
   "metadata": {},
   "outputs": [
    {
     "data": {
      "text/plain": [
       "[1]"
      ]
     },
     "execution_count": 36,
     "metadata": {},
     "output_type": "execute_result"
    }
   ],
   "source": [
    "index_of_caps(\"sUn\") "
   ]
  },
  {
   "cell_type": "markdown",
   "id": "0f3ab7d5",
   "metadata": {},
   "source": [
    "#### Using list comprehensions, create a function that finds all even numbers from 1 to the given number."
   ]
  },
  {
   "cell_type": "code",
   "execution_count": 23,
   "id": "3fd03e1c",
   "metadata": {},
   "outputs": [],
   "source": [
    "def find_even_nums(num):\n",
    "    \"\"\"This finds all even numbers from 1 to the given number.\"\"\"\n",
    "    l1=[]\n",
    "    for i in range(1,num+1):\n",
    "        if i%2==0:\n",
    "            l1.append(i)\n",
    "    return l1"
   ]
  },
  {
   "cell_type": "code",
   "execution_count": 24,
   "id": "d3e20004",
   "metadata": {},
   "outputs": [
    {
     "data": {
      "text/plain": [
       "[2, 4, 6, 8]"
      ]
     },
     "execution_count": 24,
     "metadata": {},
     "output_type": "execute_result"
    }
   ],
   "source": [
    "find_even_nums(8) "
   ]
  },
  {
   "cell_type": "code",
   "execution_count": 25,
   "id": "c00ffd34",
   "metadata": {},
   "outputs": [
    {
     "data": {
      "text/plain": [
       "[2, 4]"
      ]
     },
     "execution_count": 25,
     "metadata": {},
     "output_type": "execute_result"
    }
   ],
   "source": [
    "find_even_nums(4) "
   ]
  },
  {
   "cell_type": "code",
   "execution_count": 26,
   "id": "f7c1f0b9",
   "metadata": {},
   "outputs": [
    {
     "data": {
      "text/plain": [
       "[2]"
      ]
     },
     "execution_count": 26,
     "metadata": {},
     "output_type": "execute_result"
    }
   ],
   "source": [
    "find_even_nums(2) "
   ]
  },
  {
   "cell_type": "markdown",
   "id": "3262c377",
   "metadata": {},
   "source": [
    "### The END"
   ]
  }
 ],
 "metadata": {
  "kernelspec": {
   "display_name": "Python 3 (ipykernel)",
   "language": "python",
   "name": "python3"
  },
  "language_info": {
   "codemirror_mode": {
    "name": "ipython",
    "version": 3
   },
   "file_extension": ".py",
   "mimetype": "text/x-python",
   "name": "python",
   "nbconvert_exporter": "python",
   "pygments_lexer": "ipython3",
   "version": "3.9.12"
  }
 },
 "nbformat": 4,
 "nbformat_minor": 5
}
