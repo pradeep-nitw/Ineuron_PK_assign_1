{
 "cells": [
  {
   "cell_type": "markdown",
   "id": "99df4a10",
   "metadata": {},
   "source": [
    "#### Create a function that takes a list of non-negative integers and strings and return a new list without the strings."
   ]
  },
  {
   "cell_type": "code",
   "execution_count": 16,
   "id": "29559902",
   "metadata": {},
   "outputs": [],
   "source": [
    "def filter_list(l1):\n",
    "    \"\"\"This takes a list of elements and returns only the integers.\"\"\"\n",
    "    l2=[]\n",
    "    for i in l1:\n",
    "        if type(i)==int:\n",
    "            l2.append(i)\n",
    "    return l2"
   ]
  },
  {
   "cell_type": "code",
   "execution_count": 17,
   "id": "d5c5b983",
   "metadata": {},
   "outputs": [
    {
     "data": {
      "text/plain": [
       "[1, 2]"
      ]
     },
     "execution_count": 17,
     "metadata": {},
     "output_type": "execute_result"
    }
   ],
   "source": [
    "filter_list([1, 2, \"a\", \"b\"]) "
   ]
  },
  {
   "cell_type": "code",
   "execution_count": 18,
   "id": "928a9887",
   "metadata": {},
   "outputs": [
    {
     "data": {
      "text/plain": [
       "[1, 0, 15]"
      ]
     },
     "execution_count": 18,
     "metadata": {},
     "output_type": "execute_result"
    }
   ],
   "source": [
    "filter_list([1, \"a\", \"b\", 0, 15]) "
   ]
  },
  {
   "cell_type": "code",
   "execution_count": 19,
   "id": "ea41ebc2",
   "metadata": {},
   "outputs": [
    {
     "data": {
      "text/plain": [
       "[1, 2, 123]"
      ]
     },
     "execution_count": 19,
     "metadata": {},
     "output_type": "execute_result"
    }
   ],
   "source": [
    "filter_list([1, 2, \"aasf\", \"1\", \"123\", 123]) "
   ]
  },
  {
   "cell_type": "markdown",
   "id": "ba11fb94",
   "metadata": {},
   "source": [
    "#### The \"Reverser\" takes a string as input and returns that string in reverse order, with the opposite case."
   ]
  },
  {
   "cell_type": "code",
   "execution_count": 22,
   "id": "ea610bb7",
   "metadata": {},
   "outputs": [],
   "source": [
    "def reverse(str1):\n",
    "    \"\"\"This takes a string as input and returns that string in reverse order, with the opposite case.\"\"\"\n",
    "    str2=''\n",
    "    for i in range(len(str1)):\n",
    "        if str.isupper(str1[len(str1)-1-i]):\n",
    "            str2+=str1[len(str1)-1-i].lower()\n",
    "        else:\n",
    "            str2+=str1[len(str1)-1-i].upper()\n",
    "    return str2\n",
    "        "
   ]
  },
  {
   "cell_type": "code",
   "execution_count": 23,
   "id": "aafa8354",
   "metadata": {},
   "outputs": [
    {
     "data": {
      "text/plain": [
       "'DLROw OLLEh'"
      ]
     },
     "execution_count": 23,
     "metadata": {},
     "output_type": "execute_result"
    }
   ],
   "source": [
    "reverse(\"Hello World\") "
   ]
  },
  {
   "cell_type": "code",
   "execution_count": 24,
   "id": "2e45a194",
   "metadata": {},
   "outputs": [
    {
     "data": {
      "text/plain": [
       "'eSrEvEr'"
      ]
     },
     "execution_count": 24,
     "metadata": {},
     "output_type": "execute_result"
    }
   ],
   "source": [
    "reverse(\"ReVeRsE\")"
   ]
  },
  {
   "cell_type": "code",
   "execution_count": 25,
   "id": "8642c4d1",
   "metadata": {},
   "outputs": [
    {
     "data": {
      "text/plain": [
       "'RADAr'"
      ]
     },
     "execution_count": 25,
     "metadata": {},
     "output_type": "execute_result"
    }
   ],
   "source": [
    "reverse(\"Radar\") "
   ]
  },
  {
   "cell_type": "markdown",
   "id": "8a207bab",
   "metadata": {},
   "source": [
    "#### With Python 3, you can assign variables from lists in a much more succinct way. Create variables first, middle and last from the given list using destructuring assignment (check the Resources tab for some examples), where:\n",
    "Your task is to unpack the list writeyourcodehere into three variables, being first, middle, and last, with middle being everything in between the first and last element. Then print all three variables."
   ]
  },
  {
   "cell_type": "code",
   "execution_count": 33,
   "id": "26381152",
   "metadata": {},
   "outputs": [],
   "source": [
    "def writeyourcodehere(l1):\n",
    "    \"\"\"This prints all three variables  using destructuring assignment.\"\"\"\n",
    "    first, *middle, last = l1\n",
    "    print (\"first: \", first)\n",
    "    print (\"middle: \", middle)\n",
    "    print (\"last: \", last)"
   ]
  },
  {
   "cell_type": "code",
   "execution_count": 34,
   "id": "68a7452c",
   "metadata": {},
   "outputs": [
    {
     "name": "stdout",
     "output_type": "stream",
     "text": [
      "first:  1\n",
      "middle:  [2, 3, 4, 5]\n",
      "last:  6\n"
     ]
    }
   ],
   "source": [
    "writeyourcodehere([1, 2, 3, 4, 5, 6])"
   ]
  },
  {
   "cell_type": "markdown",
   "id": "21d242a5",
   "metadata": {},
   "source": [
    "#### Write a function that calculates the factorial of a number recursively."
   ]
  },
  {
   "cell_type": "code",
   "execution_count": 6,
   "id": "76c66d5a",
   "metadata": {},
   "outputs": [],
   "source": [
    "def factorial(num):\n",
    "    \"\"\"This calculates the factorial of a number recursively.\"\"\"\n",
    "    if num==1 or num==0:\n",
    "        return 1\n",
    "    else:\n",
    "        return num * factorial(num-1)"
   ]
  },
  {
   "cell_type": "code",
   "execution_count": 12,
   "id": "be39423d",
   "metadata": {},
   "outputs": [
    {
     "data": {
      "text/plain": [
       "120"
      ]
     },
     "execution_count": 12,
     "metadata": {},
     "output_type": "execute_result"
    }
   ],
   "source": [
    " factorial(5) "
   ]
  },
  {
   "cell_type": "code",
   "execution_count": 13,
   "id": "1b2c12fd",
   "metadata": {},
   "outputs": [
    {
     "data": {
      "text/plain": [
       "6"
      ]
     },
     "execution_count": 13,
     "metadata": {},
     "output_type": "execute_result"
    }
   ],
   "source": [
    "factorial(3) "
   ]
  },
  {
   "cell_type": "code",
   "execution_count": 14,
   "id": "1b5be3b1",
   "metadata": {},
   "outputs": [
    {
     "data": {
      "text/plain": [
       "1"
      ]
     },
     "execution_count": 14,
     "metadata": {},
     "output_type": "execute_result"
    }
   ],
   "source": [
    "factorial(1)"
   ]
  },
  {
   "cell_type": "code",
   "execution_count": 15,
   "id": "c5da8d85",
   "metadata": {},
   "outputs": [
    {
     "data": {
      "text/plain": [
       "1"
      ]
     },
     "execution_count": 15,
     "metadata": {},
     "output_type": "execute_result"
    }
   ],
   "source": [
    "factorial(0) "
   ]
  },
  {
   "cell_type": "markdown",
   "id": "5811ddf1",
   "metadata": {},
   "source": [
    "#### Write a function that moves all elements of one type to the end of the list."
   ]
  },
  {
   "cell_type": "code",
   "execution_count": 2,
   "id": "b65d6c28",
   "metadata": {},
   "outputs": [],
   "source": [
    "def move_to_end(l1,num):\n",
    "    \"\"\"This moves all elements of one type to the end of the list.\"\"\"\n",
    "    l2=[]\n",
    "    l3=[]\n",
    "    for i in range(len(l1)):\n",
    "        if l1[i]!=num:\n",
    "            l2.append(l1[i])\n",
    "        else:\n",
    "            l3.append(l1[i])\n",
    "    return l2+l3"
   ]
  },
  {
   "cell_type": "code",
   "execution_count": 3,
   "id": "5dec1a7b",
   "metadata": {},
   "outputs": [
    {
     "data": {
      "text/plain": [
       "[3, 2, 4, 4, 1, 1]"
      ]
     },
     "execution_count": 3,
     "metadata": {},
     "output_type": "execute_result"
    }
   ],
   "source": [
    "move_to_end([1, 3, 2, 4, 4, 1], 1)"
   ]
  },
  {
   "cell_type": "code",
   "execution_count": 4,
   "id": "6dd88b14",
   "metadata": {},
   "outputs": [
    {
     "data": {
      "text/plain": [
       "[7, 8, 1, 2, 3, 4, 9]"
      ]
     },
     "execution_count": 4,
     "metadata": {},
     "output_type": "execute_result"
    }
   ],
   "source": [
    "move_to_end([7, 8, 9, 1, 2, 3, 4], 9)"
   ]
  },
  {
   "cell_type": "code",
   "execution_count": 5,
   "id": "3755716d",
   "metadata": {},
   "outputs": [
    {
     "data": {
      "text/plain": [
       "['b', 'a', 'a', 'a']"
      ]
     },
     "execution_count": 5,
     "metadata": {},
     "output_type": "execute_result"
    }
   ],
   "source": [
    "move_to_end([\"a\", \"a\", \"a\", \"b\"], \"a\") "
   ]
  },
  {
   "cell_type": "markdown",
   "id": "4bc06395",
   "metadata": {},
   "source": [
    "### The End"
   ]
  }
 ],
 "metadata": {
  "kernelspec": {
   "display_name": "Python 3 (ipykernel)",
   "language": "python",
   "name": "python3"
  },
  "language_info": {
   "codemirror_mode": {
    "name": "ipython",
    "version": 3
   },
   "file_extension": ".py",
   "mimetype": "text/x-python",
   "name": "python",
   "nbconvert_exporter": "python",
   "pygments_lexer": "ipython3",
   "version": "3.9.12"
  }
 },
 "nbformat": 4,
 "nbformat_minor": 5
}
