{
 "cells": [
  {
   "cell_type": "markdown",
   "id": "1dcda397",
   "metadata": {},
   "source": [
    "#### Create a function that takes a number as an argument and returns True or False depending on whether the number is symmetrical or not. A number is symmetrical when it is the same as its reverse."
   ]
  },
  {
   "cell_type": "code",
   "execution_count": 1,
   "id": "09ccece5",
   "metadata": {},
   "outputs": [],
   "source": [
    "def is_symmetrical(num):\n",
    "    \"\"\"This checks whether the number is symmetrical or not.\"\"\"\n",
    "    Flag=num\n",
    "    revnum=0\n",
    "    \n",
    "    #Generation of reverse number\n",
    "    while num>=10:\n",
    "        revnum=(revnum+num%10)*10\n",
    "        num=int(num/10)\n",
    "    if num<10:\n",
    "        revnum+=num%10\n",
    "    \n",
    "    #checking\n",
    "    if revnum==Flag:\n",
    "        return True\n",
    "    else:\n",
    "        return False"
   ]
  },
  {
   "cell_type": "code",
   "execution_count": 2,
   "id": "f9fab3f7",
   "metadata": {},
   "outputs": [
    {
     "data": {
      "text/plain": [
       "True"
      ]
     },
     "execution_count": 2,
     "metadata": {},
     "output_type": "execute_result"
    }
   ],
   "source": [
    "is_symmetrical(7227) "
   ]
  },
  {
   "cell_type": "code",
   "execution_count": 3,
   "id": "4b84b21e",
   "metadata": {},
   "outputs": [
    {
     "data": {
      "text/plain": [
       "False"
      ]
     },
     "execution_count": 3,
     "metadata": {},
     "output_type": "execute_result"
    }
   ],
   "source": [
    "is_symmetrical(12567) "
   ]
  },
  {
   "cell_type": "code",
   "execution_count": 4,
   "id": "69153995",
   "metadata": {},
   "outputs": [
    {
     "data": {
      "text/plain": [
       "True"
      ]
     },
     "execution_count": 4,
     "metadata": {},
     "output_type": "execute_result"
    }
   ],
   "source": [
    "is_symmetrical(44444444)"
   ]
  },
  {
   "cell_type": "code",
   "execution_count": 5,
   "id": "eef6548b",
   "metadata": {},
   "outputs": [
    {
     "data": {
      "text/plain": [
       "False"
      ]
     },
     "execution_count": 5,
     "metadata": {},
     "output_type": "execute_result"
    }
   ],
   "source": [
    "is_symmetrical(9939) "
   ]
  },
  {
   "cell_type": "code",
   "execution_count": 6,
   "id": "834ab87d",
   "metadata": {},
   "outputs": [
    {
     "data": {
      "text/plain": [
       "True"
      ]
     },
     "execution_count": 6,
     "metadata": {},
     "output_type": "execute_result"
    }
   ],
   "source": [
    "is_symmetrical(1112111) "
   ]
  },
  {
   "cell_type": "markdown",
   "id": "7b5aa86f",
   "metadata": {},
   "source": [
    "#### Given a string of numbers separated by a comma and space, return the product of the numbers."
   ]
  },
  {
   "cell_type": "code",
   "execution_count": 7,
   "id": "600c1040",
   "metadata": {},
   "outputs": [],
   "source": [
    "def multiply_nums(str1):\n",
    "    \"\"\"This return the product of the numbers,Given a string of numbers separated by a comma and space\"\"\"\n",
    "    mult=1\n",
    "    l1=str1.split(sep=', ')\n",
    "    for i in l1:\n",
    "        mult=mult*int(i)\n",
    "    return mult"
   ]
  },
  {
   "cell_type": "code",
   "execution_count": 8,
   "id": "563e5660",
   "metadata": {},
   "outputs": [
    {
     "data": {
      "text/plain": [
       "6"
      ]
     },
     "execution_count": 8,
     "metadata": {},
     "output_type": "execute_result"
    }
   ],
   "source": [
    "multiply_nums(\"2, 3\") "
   ]
  },
  {
   "cell_type": "code",
   "execution_count": 9,
   "id": "93128973",
   "metadata": {},
   "outputs": [
    {
     "data": {
      "text/plain": [
       "24"
      ]
     },
     "execution_count": 9,
     "metadata": {},
     "output_type": "execute_result"
    }
   ],
   "source": [
    "multiply_nums(\"1, 2, 3, 4\") "
   ]
  },
  {
   "cell_type": "code",
   "execution_count": 10,
   "id": "2a088c31",
   "metadata": {},
   "outputs": [
    {
     "data": {
      "text/plain": [
       "0"
      ]
     },
     "execution_count": 10,
     "metadata": {},
     "output_type": "execute_result"
    }
   ],
   "source": [
    "multiply_nums(\"54, 75, 453, 0\") "
   ]
  },
  {
   "cell_type": "code",
   "execution_count": 11,
   "id": "422a573f",
   "metadata": {},
   "outputs": [
    {
     "data": {
      "text/plain": [
       "-20"
      ]
     },
     "execution_count": 11,
     "metadata": {},
     "output_type": "execute_result"
    }
   ],
   "source": [
    "multiply_nums(\"10, -2\") "
   ]
  },
  {
   "cell_type": "markdown",
   "id": "51e5c104",
   "metadata": {},
   "source": [
    "#### Create a function that squares every digit of a number."
   ]
  },
  {
   "cell_type": "code",
   "execution_count": 12,
   "id": "5621a817",
   "metadata": {},
   "outputs": [],
   "source": [
    "def square_digits(num):\n",
    "    \"\"\"This squares every digit of a number.\"\"\"\n",
    "    l1=[]\n",
    "    square_sum=''\n",
    "    \n",
    "    #Generation of list in the reverse order\n",
    "    while num>=10:\n",
    "        l1.append((num%10)**2)\n",
    "        num=int(num/10)\n",
    "    if num<10:\n",
    "        l1.append(num**2) \n",
    "     \n",
    "    #concating the numbers in the correct order\n",
    "    for i in range(len(l1)):\n",
    "        square_sum+=str(l1[len(l1)-i-1])\n",
    "        \n",
    "    return int(square_sum)"
   ]
  },
  {
   "cell_type": "code",
   "execution_count": 13,
   "id": "ec41fa25",
   "metadata": {},
   "outputs": [
    {
     "data": {
      "text/plain": [
       "811181"
      ]
     },
     "execution_count": 13,
     "metadata": {},
     "output_type": "execute_result"
    }
   ],
   "source": [
    "square_digits(9119)"
   ]
  },
  {
   "cell_type": "code",
   "execution_count": 14,
   "id": "c5839d8e",
   "metadata": {},
   "outputs": [
    {
     "data": {
      "text/plain": [
       "416649"
      ]
     },
     "execution_count": 14,
     "metadata": {},
     "output_type": "execute_result"
    }
   ],
   "source": [
    "square_digits(2483) "
   ]
  },
  {
   "cell_type": "code",
   "execution_count": 15,
   "id": "144573a0",
   "metadata": {},
   "outputs": [
    {
     "data": {
      "text/plain": [
       "9414"
      ]
     },
     "execution_count": 15,
     "metadata": {},
     "output_type": "execute_result"
    }
   ],
   "source": [
    "square_digits(3212) "
   ]
  },
  {
   "cell_type": "markdown",
   "id": "c20c2227",
   "metadata": {},
   "source": [
    "#### Create a function that sorts a list and removes all duplicate items from it."
   ]
  },
  {
   "cell_type": "code",
   "execution_count": 16,
   "id": "f7bc6d6c",
   "metadata": {},
   "outputs": [],
   "source": [
    "def setify(l1):\n",
    "    \"\"\"This sorts a list and removes all duplicate items from it.\"\"\"\n",
    "    l2=[]\n",
    "    for i in l1:\n",
    "        if i not in l2:\n",
    "            l2.append(i)\n",
    "    return sorted(l2)"
   ]
  },
  {
   "cell_type": "code",
   "execution_count": 17,
   "id": "a2b3bea4",
   "metadata": {},
   "outputs": [
    {
     "data": {
      "text/plain": [
       "[1, 3, 5]"
      ]
     },
     "execution_count": 17,
     "metadata": {},
     "output_type": "execute_result"
    }
   ],
   "source": [
    "setify([1, 3, 3, 5, 5]) "
   ]
  },
  {
   "cell_type": "code",
   "execution_count": 18,
   "id": "71e993c4",
   "metadata": {},
   "outputs": [
    {
     "data": {
      "text/plain": [
       "[4]"
      ]
     },
     "execution_count": 18,
     "metadata": {},
     "output_type": "execute_result"
    }
   ],
   "source": [
    "setify([4, 4, 4, 4]) "
   ]
  },
  {
   "cell_type": "code",
   "execution_count": 19,
   "id": "7e8fcff9",
   "metadata": {},
   "outputs": [
    {
     "data": {
      "text/plain": [
       "[5, 7, 8, 9, 10, 15]"
      ]
     },
     "execution_count": 19,
     "metadata": {},
     "output_type": "execute_result"
    }
   ],
   "source": [
    "setify([5, 7, 8, 9, 10, 15]) "
   ]
  },
  {
   "cell_type": "code",
   "execution_count": 20,
   "id": "be484189",
   "metadata": {},
   "outputs": [
    {
     "data": {
      "text/plain": [
       "[1, 2, 3]"
      ]
     },
     "execution_count": 20,
     "metadata": {},
     "output_type": "execute_result"
    }
   ],
   "source": [
    "setify([3, 3, 3, 2, 1]) "
   ]
  },
  {
   "cell_type": "markdown",
   "id": "9e0458ab",
   "metadata": {},
   "source": [
    "#### Create a function that returns the mean of all digits."
   ]
  },
  {
   "cell_type": "code",
   "execution_count": 21,
   "id": "2951fa67",
   "metadata": {},
   "outputs": [],
   "source": [
    "def mean(num):\n",
    "    \"\"\"This returns the mean of all digits.\"\"\"\n",
    "    digt_sum=0\n",
    "    count=0\n",
    "    \n",
    "    while num>=10:\n",
    "        digt_sum+=num%10\n",
    "        num=int(num/10)\n",
    "        count+=1\n",
    "    if num<10:\n",
    "        digt_sum+=num\n",
    "        count+=1    \n",
    "    return int(digt_sum/count)"
   ]
  },
  {
   "cell_type": "code",
   "execution_count": 22,
   "id": "efb95ab3",
   "metadata": {},
   "outputs": [
    {
     "data": {
      "text/plain": [
       "3"
      ]
     },
     "execution_count": 22,
     "metadata": {},
     "output_type": "execute_result"
    }
   ],
   "source": [
    "mean(42) "
   ]
  },
  {
   "cell_type": "code",
   "execution_count": 23,
   "id": "10c8961d",
   "metadata": {},
   "outputs": [
    {
     "data": {
      "text/plain": [
       "3"
      ]
     },
     "execution_count": 23,
     "metadata": {},
     "output_type": "execute_result"
    }
   ],
   "source": [
    "mean(12345) "
   ]
  },
  {
   "cell_type": "code",
   "execution_count": 24,
   "id": "38301f4e",
   "metadata": {},
   "outputs": [
    {
     "data": {
      "text/plain": [
       "6"
      ]
     },
     "execution_count": 24,
     "metadata": {},
     "output_type": "execute_result"
    }
   ],
   "source": [
    "mean(666) "
   ]
  },
  {
   "cell_type": "markdown",
   "id": "f867ec94",
   "metadata": {},
   "source": [
    "#### The END"
   ]
  }
 ],
 "metadata": {
  "kernelspec": {
   "display_name": "Python 3 (ipykernel)",
   "language": "python",
   "name": "python3"
  },
  "language_info": {
   "codemirror_mode": {
    "name": "ipython",
    "version": 3
   },
   "file_extension": ".py",
   "mimetype": "text/x-python",
   "name": "python",
   "nbconvert_exporter": "python",
   "pygments_lexer": "ipython3",
   "version": "3.9.12"
  }
 },
 "nbformat": 4,
 "nbformat_minor": 5
}
